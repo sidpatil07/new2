{
  "nbformat": 4,
  "nbformat_minor": 0,
  "metadata": {
    "colab": {
      "provenance": [],
      "authorship_tag": "ABX9TyPo/RAaxLEP+2nnIjLSSHlv",
      "include_colab_link": true
    },
    "kernelspec": {
      "name": "python3",
      "display_name": "Python 3"
    },
    "language_info": {
      "name": "python"
    }
  },
  "cells": [
    {
      "cell_type": "markdown",
      "metadata": {
        "id": "view-in-github",
        "colab_type": "text"
      },
      "source": [
        "<a href=\"https://colab.research.google.com/github/sidpatil07/new2/blob/main/Preprocessing_and_ANN.ipynb\" target=\"_parent\"><img src=\"https://colab.research.google.com/assets/colab-badge.svg\" alt=\"Open In Colab\"/></a>"
      ]
    },
    {
      "cell_type": "code",
      "execution_count": null,
      "metadata": {
        "id": "PKSbLf2zIcvr"
      },
      "outputs": [],
      "source": [
        "import pandas as pd\n",
        "from sklearn import datasets\n",
        "from sklearn.model_selection import train_test_split\n",
        "from sklearn.preprocessing import StandardScaler, LabelEncoder"
      ]
    },
    {
      "cell_type": "code",
      "source": [
        "iris = datasets.load_iris()\n",
        "data = iris.data\n",
        "target = iris.target"
      ],
      "metadata": {
        "id": "Fg8mMb7sIhsl"
      },
      "execution_count": null,
      "outputs": []
    },
    {
      "cell_type": "code",
      "source": [
        "df = pd.DataFrame(data, columns=iris.feature_names)\n",
        "df['target'] = target"
      ],
      "metadata": {
        "id": "IFHGNYhQIm1k"
      },
      "execution_count": null,
      "outputs": []
    },
    {
      "cell_type": "code",
      "source": [
        "X = df.drop('target', axis=1)\n",
        "y = df['target']"
      ],
      "metadata": {
        "id": "thN2WC5qIq4g"
      },
      "execution_count": null,
      "outputs": []
    },
    {
      "cell_type": "code",
      "source": [
        "label_encoder = LabelEncoder()\n",
        "y = label_encoder.fit_transform(y)"
      ],
      "metadata": {
        "id": "js7ntHe3IuD5"
      },
      "execution_count": null,
      "outputs": []
    },
    {
      "cell_type": "code",
      "source": [
        "X_train, X_test, y_train, y_test = train_test_split(X, y, test_size=0.2, random_state=42)"
      ],
      "metadata": {
        "id": "6TJ70He9Ium9"
      },
      "execution_count": null,
      "outputs": []
    },
    {
      "cell_type": "code",
      "source": [
        "scaler = StandardScaler()\n",
        "X_train = scaler.fit_transform(X_train)\n",
        "X_test = scaler.transform(X_test)"
      ],
      "metadata": {
        "id": "r7B5uytsIxcu"
      },
      "execution_count": null,
      "outputs": []
    },
    {
      "cell_type": "code",
      "source": [
        "# Applying ANN"
      ],
      "metadata": {
        "id": "QeKb9R60IxoB"
      },
      "execution_count": null,
      "outputs": []
    },
    {
      "cell_type": "code",
      "source": [
        "import tensorflow as tf\n",
        "from tensorflow import keras\n",
        "from tensorflow.keras import layers\n",
        "import numpy as np\n",
        "from sklearn.metrics import accuracy_score"
      ],
      "metadata": {
        "id": "uGBITuoRJSPV"
      },
      "execution_count": null,
      "outputs": []
    },
    {
      "cell_type": "code",
      "source": [
        "model = keras.Sequential([\n",
        "    layers.Dense(16, activation='relu', input_shape=(4,)),\n",
        "    layers.Dense(3, activation='softmax')\n",
        "])"
      ],
      "metadata": {
        "id": "qkXIh-CaJ6XB"
      },
      "execution_count": null,
      "outputs": []
    },
    {
      "cell_type": "code",
      "source": [
        "model.compile(optimizer='adam', loss='sparse_categorical_crossentropy', metrics=['accuracy'])"
      ],
      "metadata": {
        "id": "rBpFirKIJ81N"
      },
      "execution_count": null,
      "outputs": []
    },
    {
      "cell_type": "code",
      "source": [
        "model.fit(X_train, y_train, epochs=50, batch_size=32, verbose=1)"
      ],
      "metadata": {
        "colab": {
          "base_uri": "https://localhost:8080/"
        },
        "id": "-KaaMAEaJ_IL",
        "outputId": "2407f6bb-9ed7-4525-fe8b-6c5b8318a09f"
      },
      "execution_count": null,
      "outputs": [
        {
          "output_type": "stream",
          "name": "stdout",
          "text": [
            "Epoch 1/50\n",
            "4/4 [==============================] - 1s 9ms/step - loss: 0.9256 - accuracy: 0.4750\n",
            "Epoch 2/50\n",
            "4/4 [==============================] - 0s 4ms/step - loss: 0.9056 - accuracy: 0.5083\n",
            "Epoch 3/50\n",
            "4/4 [==============================] - 0s 5ms/step - loss: 0.8869 - accuracy: 0.5417\n",
            "Epoch 4/50\n",
            "4/4 [==============================] - 0s 5ms/step - loss: 0.8686 - accuracy: 0.5750\n",
            "Epoch 5/50\n",
            "4/4 [==============================] - 0s 6ms/step - loss: 0.8501 - accuracy: 0.6167\n",
            "Epoch 6/50\n",
            "4/4 [==============================] - 0s 6ms/step - loss: 0.8324 - accuracy: 0.6667\n",
            "Epoch 7/50\n",
            "4/4 [==============================] - 0s 4ms/step - loss: 0.8151 - accuracy: 0.6917\n",
            "Epoch 8/50\n",
            "4/4 [==============================] - 0s 4ms/step - loss: 0.7982 - accuracy: 0.7583\n",
            "Epoch 9/50\n",
            "4/4 [==============================] - 0s 13ms/step - loss: 0.7819 - accuracy: 0.8083\n",
            "Epoch 10/50\n",
            "4/4 [==============================] - 0s 7ms/step - loss: 0.7654 - accuracy: 0.8167\n",
            "Epoch 11/50\n",
            "4/4 [==============================] - 0s 9ms/step - loss: 0.7497 - accuracy: 0.8167\n",
            "Epoch 12/50\n",
            "4/4 [==============================] - 0s 5ms/step - loss: 0.7337 - accuracy: 0.8167\n",
            "Epoch 13/50\n",
            "4/4 [==============================] - 0s 10ms/step - loss: 0.7186 - accuracy: 0.8333\n",
            "Epoch 14/50\n",
            "4/4 [==============================] - 0s 5ms/step - loss: 0.7030 - accuracy: 0.8417\n",
            "Epoch 15/50\n",
            "4/4 [==============================] - 0s 6ms/step - loss: 0.6882 - accuracy: 0.8583\n",
            "Epoch 16/50\n",
            "4/4 [==============================] - 0s 6ms/step - loss: 0.6739 - accuracy: 0.8583\n",
            "Epoch 17/50\n",
            "4/4 [==============================] - 0s 6ms/step - loss: 0.6594 - accuracy: 0.8583\n",
            "Epoch 18/50\n",
            "4/4 [==============================] - 0s 6ms/step - loss: 0.6456 - accuracy: 0.8583\n",
            "Epoch 19/50\n",
            "4/4 [==============================] - 0s 6ms/step - loss: 0.6323 - accuracy: 0.8583\n",
            "Epoch 20/50\n",
            "4/4 [==============================] - 0s 5ms/step - loss: 0.6192 - accuracy: 0.8667\n",
            "Epoch 21/50\n",
            "4/4 [==============================] - 0s 5ms/step - loss: 0.6066 - accuracy: 0.8583\n",
            "Epoch 22/50\n",
            "4/4 [==============================] - 0s 7ms/step - loss: 0.5940 - accuracy: 0.8583\n",
            "Epoch 23/50\n",
            "4/4 [==============================] - 0s 5ms/step - loss: 0.5818 - accuracy: 0.8583\n",
            "Epoch 24/50\n",
            "4/4 [==============================] - 0s 6ms/step - loss: 0.5706 - accuracy: 0.8417\n",
            "Epoch 25/50\n",
            "4/4 [==============================] - 0s 5ms/step - loss: 0.5591 - accuracy: 0.8583\n",
            "Epoch 26/50\n",
            "4/4 [==============================] - 0s 14ms/step - loss: 0.5482 - accuracy: 0.8583\n",
            "Epoch 27/50\n",
            "4/4 [==============================] - 0s 6ms/step - loss: 0.5377 - accuracy: 0.8583\n",
            "Epoch 28/50\n",
            "4/4 [==============================] - 0s 8ms/step - loss: 0.5274 - accuracy: 0.8667\n",
            "Epoch 29/50\n",
            "4/4 [==============================] - 0s 9ms/step - loss: 0.5174 - accuracy: 0.8667\n",
            "Epoch 30/50\n",
            "4/4 [==============================] - 0s 7ms/step - loss: 0.5075 - accuracy: 0.8667\n",
            "Epoch 31/50\n",
            "4/4 [==============================] - 0s 6ms/step - loss: 0.4979 - accuracy: 0.8667\n",
            "Epoch 32/50\n",
            "4/4 [==============================] - 0s 11ms/step - loss: 0.4889 - accuracy: 0.8667\n",
            "Epoch 33/50\n",
            "4/4 [==============================] - 0s 6ms/step - loss: 0.4801 - accuracy: 0.8583\n",
            "Epoch 34/50\n",
            "4/4 [==============================] - 0s 6ms/step - loss: 0.4717 - accuracy: 0.8583\n",
            "Epoch 35/50\n",
            "4/4 [==============================] - 0s 5ms/step - loss: 0.4636 - accuracy: 0.8583\n",
            "Epoch 36/50\n",
            "4/4 [==============================] - 0s 7ms/step - loss: 0.4555 - accuracy: 0.8583\n",
            "Epoch 37/50\n",
            "4/4 [==============================] - 0s 6ms/step - loss: 0.4480 - accuracy: 0.8583\n",
            "Epoch 38/50\n",
            "4/4 [==============================] - 0s 5ms/step - loss: 0.4403 - accuracy: 0.8667\n",
            "Epoch 39/50\n",
            "4/4 [==============================] - 0s 5ms/step - loss: 0.4332 - accuracy: 0.8667\n",
            "Epoch 40/50\n",
            "4/4 [==============================] - 0s 7ms/step - loss: 0.4264 - accuracy: 0.8667\n",
            "Epoch 41/50\n",
            "4/4 [==============================] - 0s 9ms/step - loss: 0.4197 - accuracy: 0.8667\n",
            "Epoch 42/50\n",
            "4/4 [==============================] - 0s 5ms/step - loss: 0.4131 - accuracy: 0.8750\n",
            "Epoch 43/50\n",
            "4/4 [==============================] - 0s 5ms/step - loss: 0.4069 - accuracy: 0.8750\n",
            "Epoch 44/50\n",
            "4/4 [==============================] - 0s 5ms/step - loss: 0.4009 - accuracy: 0.8750\n",
            "Epoch 45/50\n",
            "4/4 [==============================] - 0s 8ms/step - loss: 0.3948 - accuracy: 0.8750\n",
            "Epoch 46/50\n",
            "4/4 [==============================] - 0s 9ms/step - loss: 0.3893 - accuracy: 0.8750\n",
            "Epoch 47/50\n",
            "4/4 [==============================] - 0s 5ms/step - loss: 0.3837 - accuracy: 0.8750\n",
            "Epoch 48/50\n",
            "4/4 [==============================] - 0s 6ms/step - loss: 0.3782 - accuracy: 0.8750\n",
            "Epoch 49/50\n",
            "4/4 [==============================] - 0s 4ms/step - loss: 0.3732 - accuracy: 0.8917\n",
            "Epoch 50/50\n",
            "4/4 [==============================] - 0s 6ms/step - loss: 0.3680 - accuracy: 0.8917\n"
          ]
        },
        {
          "output_type": "execute_result",
          "data": {
            "text/plain": [
              "<keras.src.callbacks.History at 0x7c102e140940>"
            ]
          },
          "metadata": {},
          "execution_count": 12
        }
      ]
    },
    {
      "cell_type": "code",
      "source": [
        "y_pred = model.predict(X_test)\n",
        "y_pred_classes = np.argmax(y_pred, axis=1)"
      ],
      "metadata": {
        "colab": {
          "base_uri": "https://localhost:8080/"
        },
        "id": "OrwCRII-KX6j",
        "outputId": "6b1bcecf-8904-49c6-e06c-8a31d55e8d2f"
      },
      "execution_count": null,
      "outputs": [
        {
          "output_type": "stream",
          "name": "stdout",
          "text": [
            "1/1 [==============================] - 0s 463ms/step\n"
          ]
        }
      ]
    },
    {
      "cell_type": "code",
      "source": [
        "accuracy = accuracy_score(y_test, y_pred_classes)\n",
        "print(f\"Test set accuracy: {accuracy * 100:.2f}%\")"
      ],
      "metadata": {
        "colab": {
          "base_uri": "https://localhost:8080/"
        },
        "id": "0aosOkN2KbNo",
        "outputId": "518feb2e-b19a-4d01-ffc2-e64a946a11ac"
      },
      "execution_count": null,
      "outputs": [
        {
          "output_type": "stream",
          "name": "stdout",
          "text": [
            "Test set accuracy: 93.33%\n"
          ]
        }
      ]
    }
  ]
}